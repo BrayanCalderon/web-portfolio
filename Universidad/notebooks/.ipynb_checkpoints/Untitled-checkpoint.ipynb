{
 "cells": [
  {
   "cell_type": "code",
   "execution_count": 1,
   "id": "d39736c1-3e63-4950-849c-b9396591c96c",
   "metadata": {},
   "outputs": [],
   "source": [
    "import matplotlib.pyplot as plt\n",
    "import numpy as np\n",
    "import cv2"
   ]
  },
  {
   "cell_type": "code",
   "execution_count": null,
   "id": "ec51ddd3-e768-40a6-87a0-63c631529edb",
   "metadata": {},
   "outputs": [],
   "source": [
    "img = cv2.imread('imagenes/jota.png',0)\n",
    "plt.imshow(img,cmap='gray')\n",
    "plt.title('original')\n",
    "plt.show()\n",
    "\n",
    "X = cv2.imread('frutos.png',0)\n",
    "plt.figure(figsize=(10,10))\n",
    "plt.imshow(X,cmap='gray')\n",
    "plt.title('original')\n",
    "plt.show()"
   ]
  }
 ],
 "metadata": {
  "kernelspec": {
   "display_name": "Python 3 (ipykernel)",
   "language": "python",
   "name": "python3"
  },
  "language_info": {
   "codemirror_mode": {
    "name": "ipython",
    "version": 3
   },
   "file_extension": ".py",
   "mimetype": "text/x-python",
   "name": "python",
   "nbconvert_exporter": "python",
   "pygments_lexer": "ipython3",
   "version": "3.8.12"
  }
 },
 "nbformat": 4,
 "nbformat_minor": 5
}
